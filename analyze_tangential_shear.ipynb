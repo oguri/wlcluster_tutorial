{
 "cells": [
  {
   "cell_type": "markdown",
   "id": "reliable-soviet",
   "metadata": {},
   "source": [
    "# Tutorial for the cluster weak lensing analysis\n",
    "\n",
    "This is a tutorial for the weak lensing analysis of massive clusters of galaxies. Originally it was prepared for an online summer school organized by Institut Teknologi Bandung (ITB), Bandung, West Java, Indonesia, held in September 2020 (the webpage is [here](https://www.as.itb.ac.id/ssgc2020/)). \n",
    "\n",
    "The purpose of this tutorial is to learn the basics of the cluster weak lensing analysis, following the lecture given at the summer school. I derive a tangential shear profile from a shear catalog, and fit it to a model shear profile to derive cluster parameters such as the mass. The slides of my lecture is available [here](https://oguri.github.io/lectures/2020ssgc/ssgc2020.pdf). Key equations needed for the analysis are given in the slides.\n",
    "\n",
    "## Data\n",
    "\n",
    "In this tutorial I use weak lensing shape catalogs in cluster fields (catalogs of galaxies behind clusters with ellipticity measurements for each galaxy) presented in [Oguri et al. (2012)](https://ui.adsabs.harvard.edu/abs/2012MNRAS.420.3213O). In the paper weak lensing shape catalogs are derived for about 30 clusters based on Subaru Suprime-cam imaging data. Here I prepare shear catalogs for the following 8 clusters \n",
    "\n",
    "| cluster_name | redshift | center RA | center Dec |\n",
    "|:---:|:---:|:---:|:---:|\n",
    "|a1703    | 0.277 | 198.771833 | 51.817389 |\n",
    "|gho1320  | 0.308 | 200.703208 | 31.654944 |\n",
    "|sdss0851 | 0.370 | 132.911917 | 33.518361 |\n",
    "|sdss1050 | 0.60  | 162.666250 |  0.285306 |\n",
    "|sdss1138 | 0.451 | 174.537292 | 27.908528 |\n",
    "|sdss1226 | 0.435 | 186.712958 | 21.831194 |\n",
    "|sdss1329 | 0.443 | 202.393708 | 22.721167 |\n",
    "|sdss1531 | 0.335 | 232.794167 | 34.240278 |\n",
    "\n",
    "whose weak lensing signals are relatively more significant. In [data/](data/) there is the catalog named `shear_cluster_name.dat` for each cluster. In the file, each line corresponds to one galaxy and contains information on\n",
    "```\n",
    "RA Dec gamma1 gamma2 weight\n",
    "```\n",
    "note that `gamma1` and `gamma2` are defined in the coordinate system with +x direction being -RA and +y direction beging +Dec.\n",
    "\n",
    "## Getting started\n",
    "\n",
    "First start with loading modules and define cosmological parameters"
   ]
  },
  {
   "cell_type": "code",
   "execution_count": 1,
   "id": "human-approval",
   "metadata": {},
   "outputs": [],
   "source": [
    "%matplotlib inline\n",
    "\n",
    "import numpy as np\n",
    "from astropy import wcs\n",
    "from scipy.optimize import curve_fit\n",
    "from astropy import constants as const\n",
    "from astropy import units as u\n",
    "from astropy.cosmology import FlatLambdaCDM\n",
    "from numpy.lib import scimath as sm\n",
    "import matplotlib as mpl\n",
    "import matplotlib.pyplot as plt\n",
    "\n",
    "cosmo = FlatLambdaCDM(H0 = 70, Om0 = 0.3)"
   ]
  },
  {
   "cell_type": "markdown",
   "id": "peripheral-senator",
   "metadata": {},
   "source": [
    "The basic parameters for the 8 clusters are also provided"
   ]
  },
  {
   "cell_type": "code",
   "execution_count": 2,
   "id": "meaningful-garbage",
   "metadata": {},
   "outputs": [],
   "source": [
    "clusters = ['a1703', 'gho1320', 'sdss0851', 'sdss1050', 'sdss1138', 'sdss1226', 'sdss1329', 'sdss1531']\n",
    "\n",
    "zl_all = {'a1703': 0.277, 'gho1320': 0.308, 'sdss0851': 0.370, 'sdss1050': 0.60, 'sdss1138': 0.451, 'sdss1226': 0.435, 'sdss1329': 0.443, 'sdss1531': 0.335}\n",
    "\n",
    "ra_cl_all = {'a1703': 198.771833, 'gho1320': 200.703208, 'sdss0851': 132.911917, 'sdss1050': 162.666250, 'sdss1138': 174.537292, 'sdss1226': 186.712958, 'sdss1329': 202.393708, 'sdss1531':  232.794167}\n",
    "\n",
    "dec_cl_all = {'a1703': 51.817389, 'gho1320': 31.654944, 'sdss0851': 33.518361, 'sdss1050': 0.285306, 'sdss1138': 27.908528, 'sdss1226': 21.831194, 'sdss1329': 22.721167, 'sdss1531':  34.240278}"
   ]
  },
  {
   "cell_type": "markdown",
   "id": "seasonal-india",
   "metadata": {},
   "source": [
    "Let's see an example for the cluster `a1703` (you can check results for other cluster by changing `cname`)"
   ]
  },
  {
   "cell_type": "code",
   "execution_count": 3,
   "id": "precious-radiation",
   "metadata": {},
   "outputs": [],
   "source": [
    "cname   = 'a1703'\n",
    "\n",
    "# cluster redshift\n",
    "zl      = zl_all.get(cname)\n",
    "\n",
    "# coordinates of the cluster center\n",
    "ra_cl   = ra_cl_all.get(cname)\n",
    "dec_cl  = dec_cl_all.get(cname)\n",
    "\n",
    "# fix source redshift to 1.0\n",
    "zs = 1.0"
   ]
  },
  {
   "cell_type": "markdown",
   "id": "radio-reset",
   "metadata": {},
   "source": [
    "Note that the source redshift is used only for deriving a velocity dispersion of the cluster from tangential shear fitting (see below). \n",
    "\n",
    "## Deriving a tangential shear profile\n",
    "\n",
    "First I need to read the shape catalog"
   ]
  },
  {
   "cell_type": "code",
   "execution_count": 4,
   "id": "cubic-relation",
   "metadata": {},
   "outputs": [],
   "source": [
    "rfile = 'data/shear_' + cname + '.dat'\n",
    "data = np.loadtxt(rfile, comments = '#')\n",
    "\n",
    "ra  = data[:, 0]\n",
    "dec = data[:, 1]\n",
    "g1  = data[:, 2]\n",
    "g2  = data[:, 3]\n",
    "wei = data[:, 4]"
   ]
  },
  {
   "cell_type": "markdown",
   "id": "precious-fourth",
   "metadata": {},
   "source": [
    "I start with converting RA and Dec to flat sky coordinate ($x = \\theta_1$, $y = \\theta_2$) centered at each cluster center. $x$ and $y$ are in units of arcmin. Note that -RA is $+x$ direction, following the defintion of shear."
   ]
  },
  {
   "cell_type": "code",
   "execution_count": 5,
   "id": "searching-sapphire",
   "metadata": {},
   "outputs": [],
   "source": [
    "dx = -1.0 / 60.0\n",
    "dy =  1.0 / 60.0\n",
    "\n",
    "w = wcs.WCS(naxis = 2)\n",
    "\n",
    "w.wcs.crval = [ra_cl, dec_cl]\n",
    "w.wcs.cd    = np.array([[dx, 0.0], [0.0, dy]])\n",
    "w.wcs.ctype = ['RA---TAN', 'DEC--TAN']\n",
    "w.wcs.crpix = [0, 0]\n",
    "\n",
    "coord = np.stack([ra, dec], axis = 1)\n",
    "    \n",
    "xy = w.wcs_world2pix(coord, 1)\n",
    "\n",
    "x = xy[:,0]\n",
    "y = xy[:,1]"
   ]
  },
  {
   "cell_type": "markdown",
   "id": "armed-metabolism",
   "metadata": {},
   "source": [
    "We then the define the annulus i.e., $\\theta$ bin. It is equally spaced in log10 between $10^{\\rm ltmin}$ and $10^{\\rm ltmax}$. I also derive $\\theta$ for each galaxy"
   ]
  },
  {
   "cell_type": "code",
   "execution_count": 6,
   "id": "unnecessary-fortune",
   "metadata": {},
   "outputs": [],
   "source": [
    "ltmin  =  0.0\n",
    "ltmax  =  1.28\n",
    "dlt    =  0.16\n",
    "\n",
    "nbin = int((ltmax - ltmin + 1.0e-30) / dlt)\n",
    "\n",
    "lt1 = np.linspace(ltmin, ltmax - dlt, num = nbin)\n",
    "lt2 = np.linspace(ltmin + dlt, ltmax, num = nbin)\n",
    "\n",
    "tbin = 10 ** (0.5 * (lt1 + lt2))\n",
    "\n",
    "t  = np.sqrt(x * x + y * y)\n",
    "lt = np.log10(t)"
   ]
  },
  {
   "cell_type": "markdown",
   "id": "rural-combat",
   "metadata": {},
   "source": [
    "Now let's compute tangential and cross shear following the definition given in page 27 of [the slides](https://oguri.github.io/lectures/2020ssgc/ssgc2020.pdf)"
   ]
  },
  {
   "cell_type": "code",
   "execution_count": 7,
   "id": "matched-cocktail",
   "metadata": {},
   "outputs": [],
   "source": [
    "cos2 = (x * x - y * y) / (t * t + 1.0e-30)\n",
    "sin2 = 2.0 * x * y  / (t * t + 1.0e-30)\n",
    "\n",
    "gt = (-1.0) * cos2 * g1 - sin2 * g2\n",
    "gx = sin2 * g1 - cos2 * g2"
   ]
  },
  {
   "cell_type": "markdown",
   "id": "earlier-newman",
   "metadata": {},
   "source": [
    "Next I compute tangential and cross shear profiles and their errors follwing equations given in page 36 of [the slides](https://oguri.github.io/lectures/2020ssgc/ssgc2020.pdf)"
   ]
  },
  {
   "cell_type": "code",
   "execution_count": 8,
   "id": "sapphire-binary",
   "metadata": {},
   "outputs": [],
   "source": [
    "gt_ave = np.zeros(nbin)\n",
    "gx_ave = np.zeros(nbin)\n",
    "gt_sig = np.zeros(nbin)\n",
    "gx_sig = np.zeros(nbin)\n",
    "\n",
    "for j in range(nbin):\n",
    "    mask = np.logical_and((lt > lt1[j]), (lt < lt2[j]))\n",
    "    ct   = t[mask]\n",
    "    cgt  = gt[mask]\n",
    "    cgx  = gx[mask]\n",
    "    cwei = wei[mask]\n",
    "\n",
    "    wsum1 = np.sum(cwei)\n",
    "    wsum2 = np.sum(cwei * cwei)\n",
    "\n",
    "    gt_ave[j] = np.sum(cgt * cwei) / wsum1\n",
    "    gx_ave[j] = np.sum(cgx * cwei) / wsum1\n",
    "\n",
    "    gt_sig[j] = np.sqrt((np.sum(cgt * cgt * cwei) / wsum1) * (wsum2 / (wsum1 * wsum1)))\n",
    "    gx_sig[j] = np.sqrt((np.sum(cgx * cgx * cwei) / wsum1) * (wsum2 / (wsum1 * wsum1)))"
   ]
  },
  {
   "cell_type": "markdown",
   "id": "norman-sending",
   "metadata": {},
   "source": [
    "Let's check the derived shear profiles"
   ]
  },
  {
   "cell_type": "code",
   "execution_count": 9,
   "id": "fuzzy-property",
   "metadata": {},
   "outputs": [
    {
     "data": {
      "text/plain": [
       "Text(0.5, 1.0, 'a1703')"
      ]
     },
     "execution_count": 9,
     "metadata": {},
     "output_type": "execute_result"
    },
    {
     "data": {
      "image/png": "[encoded data removed]",
      "text/plain": [
       "<Figure size 576x432 with 1 Axes>"
      ]
     },
     "metadata": {
      "needs_background": "light"
     },
     "output_type": "display_data"
    }
   ],
   "source": [
    "xmin = 1.0\n",
    "xmax = 20.0\n",
    "ymin = -0.08\n",
    "ymax = 0.24\n",
    "\n",
    "plt.figure(figsize = (8, 6))\n",
    "\n",
    "plt.hlines(0, xmin, xmax, linestyles = 'dotted', color = 'black')\n",
    "\n",
    "plt.plot(tbin * 1.005, gt_ave, '.', markersize = 10, color = 'r')\n",
    "plt.errorbar(tbin * 1.005, gt_ave, yerr = gt_sig, fmt = 'none', ecolor = 'r', label = '_nolegend_')\n",
    "\n",
    "plt.plot(tbin * 0.995, gx_ave, 'x', markersize = 10, color = 'b')\n",
    "plt.errorbar(tbin * 0.995, gx_ave, yerr = gt_sig, fmt = 'none', ecolor = 'b', label = '_nolegend_')\n",
    "\n",
    "plt.legend(['$\\gamma_+$', '$\\gamma_\\\\times$'], markerscale = 1, frameon = False, fontsize = 20, labelspacing = 0.3, numpoints = 1, loc = 'upper right')\n",
    "\n",
    "ax = plt.gca()\n",
    "ax.set_xscale('log')\n",
    "\n",
    "ax.yaxis.set_major_locator(mpl.ticker.MultipleLocator(0.1))\n",
    "ax.yaxis.set_minor_locator(mpl.ticker.MultipleLocator(0.02))\n",
    "\n",
    "plt.xlim([xmin,xmax])\n",
    "plt.ylim([ymin,ymax])\n",
    "\n",
    "plt.xlabel('$\\\\theta$ [arcmin]', fontsize = 24)\n",
    "plt.ylabel('$\\gamma_+$ or $\\gamma_\\\\times$', fontsize = 24)\n",
    "plt.title(cname)"
   ]
  },
  {
   "cell_type": "markdown",
   "id": "african-earth",
   "metadata": {},
   "source": [
    "It is seen that positive signals of tangential shear ($\\gamma_+$) are detected significantly, while cross shear ($\\gamma_\\times$) is consistent with zero as expected. \n",
    "\n",
    "## Fitting\n",
    "\n",
    "By comparing the observed tangential shear profile with model predictions, one can extract information on the cluster such as the mass. Let's see this by adopting a Singular Isothermal Sphere (SIS) as a specific example. This model is explained in page 43 of [the slides](https://oguri.github.io/lectures/2020ssgc/ssgc2020.pdf)."
   ]
  },
  {
   "cell_type": "code",
   "execution_count": 10,
   "id": "pregnant-election",
   "metadata": {},
   "outputs": [
    {
     "name": "stdout",
     "output_type": "stream",
     "text": [
      "Einstein radius: 0.493196 arcmin\n"
     ]
    }
   ],
   "source": [
    "def fit_sis(x, t_ein):\n",
    "    return 0.5 * (t_ein / x)\n",
    "\n",
    "# fit parameter t_ein (Einstein radius) with observed shear profile\n",
    "tein, cov = curve_fit(fit_sis, tbin, gt_ave, sigma = gt_sig)\n",
    "\n",
    "print('Einstein radius: %f arcmin' % tein[0])"
   ]
  },
  {
   "cell_type": "markdown",
   "id": "generic-current",
   "metadata": {},
   "source": [
    "The derived Einstein radius (for the source redshift of $z\\sim 1$) of $\\sim 30'$ for a1703 seems to be slightly larger than the Einstein radius of $\\sim 10'-20'$ from the strong lensing analysis of this cluster (see e.g., [this paper](https://ui.adsabs.harvard.edu/abs/2009ApJ...699.1038O/abstract)). One reason may be that the assumption of the SIS profile is not accurate near the cluster center as we know that the so-called NFW profile desribed the observed cluster mass distribution better. Anyhow, let's see how good the fitting is by overplotting the model prediction to the observed tangential shear profile"
   ]
  },
  {
   "cell_type": "code",
   "execution_count": 11,
   "id": "preceding-darkness",
   "metadata": {
    "scrolled": false
   },
   "outputs": [
    {
     "data": {
      "text/plain": [
       "Text(0.5, 1.0, 'a1703')"
      ]
     },
     "execution_count": 11,
     "metadata": {},
     "output_type": "execute_result"
    },
    {
     "data": {
      "image/png": "[encoded data removed]",
      "text/plain": [
       "<Figure size 576x432 with 1 Axes>"
      ]
     },
     "metadata": {
      "needs_background": "light"
     },
     "output_type": "display_data"
    }
   ],
   "source": [
    "# conpute best-fit profile\n",
    "tt1 = 10 ** np.linspace(-1.0, 2.0, num = 300)\n",
    "yy1 = fit_sis(tt1, tein[0])\n",
    "\n",
    "xmin = 1.0\n",
    "xmax = 20.0\n",
    "ymin = 0.005\n",
    "ymax = 0.3\n",
    "\n",
    "plt.figure(figsize = (8, 6))\n",
    "\n",
    "plt.hlines(0, xmin, xmax, linestyles = 'dotted')\n",
    "\n",
    "plt.plot(tt1, yy1, '-', color = 'b', lw = 2.)\n",
    "\n",
    "plt.plot(tbin, gt_ave, '.', markersize = 10, color = 'r')\n",
    "plt.errorbar(tbin, gt_ave, yerr = gt_sig, fmt = 'none', ecolor = 'r', label = '_nolegend_')\n",
    "\n",
    "plt.legend(['SIS fit'], markerscale = 1, frameon = False, fontsize = 20, labelspacing = 0.3, numpoints = 1, loc = 'upper right')\n",
    "\n",
    "ax = plt.gca()\n",
    "ax.set_xscale('log')\n",
    "ax.set_yscale('log')\n",
    "\n",
    "plt.xlim([xmin,xmax])\n",
    "plt.ylim([ymin,ymax])\n",
    "\n",
    "plt.xlabel('$\\\\theta$ [arcmin]', fontsize = 24)\n",
    "plt.ylabel('$\\gamma_+$', fontsize = 24)\n",
    "plt.title(cname)"
   ]
  },
  {
   "cell_type": "markdown",
   "id": "entire-companion",
   "metadata": {},
   "source": [
    "The plot above suggests that fitting is reasonably good.\n",
    "\n",
    "I can also derive the velocity dispersion from the best-fit Einstein radius, follwing the defintion (page 43 of [the slides](https://oguri.github.io/lectures/2020ssgc/ssgc2020.pdf))"
   ]
  },
  {
   "cell_type": "code",
   "execution_count": 12,
   "id": "previous-wrestling",
   "metadata": {},
   "outputs": [
    {
     "name": "stdout",
     "output_type": "stream",
     "text": [
      "velocity dispersion:  1242.8890366991702 km / s\n"
     ]
    }
   ],
   "source": [
    "tein_rad = tein[0] * u.arcmin\n",
    "dos = cosmo.angular_diameter_distance(zs)\n",
    "dol = cosmo.angular_diameter_distance(zl)\n",
    "dls = cosmo.angular_diameter_distance_z1z2(zl, zs)\n",
    "sig = const.c * np.sqrt((tein_rad * dos).to(u.Mpc, u.dimensionless_angles()) / (4.0 * np.pi * dls))\n",
    "\n",
    "print('velocity dispersion: ', sig.to(u.km/u.s))"
   ]
  },
  {
   "cell_type": "markdown",
   "id": "caring-apparel",
   "metadata": {},
   "source": [
    "This is consistent with a typical velocity dispersion of massive clusters of galaxies."
   ]
  }
 ],
 "metadata": {
  "kernelspec": {
   "display_name": "Python 3",
   "language": "python",
   "name": "python3"
  },
  "language_info": {
   "codemirror_mode": {
    "name": "ipython",
    "version": 3
   },
   "file_extension": ".py",
   "mimetype": "text/x-python",
   "name": "python",
   "nbconvert_exporter": "python",
   "pygments_lexer": "ipython3",
   "version": "3.8.5"
  }
 },
 "nbformat": 4,
 "nbformat_minor": 5
}
